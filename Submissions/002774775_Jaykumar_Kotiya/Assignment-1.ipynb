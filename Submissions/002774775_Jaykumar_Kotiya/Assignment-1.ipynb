{
 "cells": [
  {
   "cell_type": "markdown",
   "metadata": {},
   "source": [
    "# Assignment-1"
   ]
  },
  {
   "cell_type": "markdown",
   "metadata": {},
   "source": [
    "###### Name    : Jaykumar Govind Kotiya\n",
    "###### Subject : INFO 6205 Program Structure and Algorithms\n",
    "###### NUID    : 002774775  "
   ]
  },
  {
   "cell_type": "markdown",
   "metadata": {},
   "source": [
    "Q-1 (10 points)\n",
    "\n",
    "I have two functions to compare:\n",
    "1. f(n) = 2n^2 + 3n\n",
    "2. g(n) = n^3\n",
    "I want to figure out which of these functions has a higher growth rate as n becomes large.\n",
    "\n",
    "Which of the two functions, f(n) or g(n), has a higher growth rate as n becomes large? I'll provide a justification for my answer using Big O notation.\n",
    "\n",
    "Answer:\n",
    "\n",
    "To check which function has a higher growth rate, I'll use Big O notation to compare them. Big O notation helps me understand how functions grow relative to each other for large values of n.\n",
    "\n",
    "1. f(n) = 2n^2 + 3n:\n",
    "-> To express this in Big O notation, I need to find an upper bound function that is a simple polynomial.\n",
    "-> I notice that f(n) is bounded above by 2n^2 for all n > 1, as the linear term (3n) is overshadowed by the quadratic term (2n^2).\n",
    "-> Therefore, I can say that f(n) = O(n^2).\n",
    "\n",
    "2. g(n) = n^3:\n",
    "-> g(n) is a simple cubic polynomial.\n",
    "-> Therefore, g(n) = O(n^3).\n",
    "\n",
    "So now compareing the Big O notations:\n",
    "\n",
    "f(n) = O(n^2)\n",
    "g(n) = O(n^3)\n",
    "\n",
    "As n becomes large, the growth rate of n^3 is higher than that of n^2. So, I conclude that g(n) has a higher growth rate than f(n)."
   ]
  },
  {
   "cell_type": "markdown",
   "metadata": {},
   "source": [
    "Q-2 (10 Points)\n",
    "\n",
    "Consider two functions, f(n) = 2n^2 + 3n and g(n) = n^2.\n",
    "\n",
    "To determine the relationship between these two functions using asymptotic notations.\n",
    "\n",
    "Calculate the Big O notation for the function f(n) in terms of g(n). Is f(n) = O(g(n)) true or false? Provide a proof or counter example.\n",
    "\n",
    "Answer:\n",
    "\n",
    "To determine whether f(n) = O(g(n)) is true or false, Let's first check whether f(n) grows at most as fast as g(n) for some positive constant factor and for sufficiently large values of n.\n",
    "\n",
    "-> Calculate the Big O notation for f(n) in terms of g(n):\n",
    "\n",
    "To find a constant c > 0 and an n0 such that:\n",
    "\n",
    "f(n) ≤ c*g(n) for all n ≥ n0.\n",
    "\n",
    "Now:\n",
    "\n",
    "f(n) = 2n^2 + 3n\n",
    "g(n) = n^2\n",
    "Now, we can compare these two functions:\n",
    "\n",
    "2n^2 + 3n ≤ c * n^2\n",
    "\n",
    "To simplify, divide both sides by n^2:\n",
    "\n",
    "2 + 3/n ≤ c\n",
    "\n",
    "Now, To find a constant c for which this inequality holds for all n ≥ n0.\n",
    "\n",
    "As n approaches infinity, 3/n approaches 0.\n",
    "So, 2 + 3/n approaches 2.\n",
    "Now, c = 2:\n",
    "\n",
    "2 + 3/n ≤ 2\n",
    "\n",
    "For all n ≥ 1, this inequality holds.\n",
    "\n",
    "Therefore, f(n) = O(g(n)) is true."
   ]
  },
  {
   "cell_type": "markdown",
   "metadata": {},
   "source": []
  }
 ],
 "metadata": {
  "language_info": {
   "name": "python"
  },
  "orig_nbformat": 4
 },
 "nbformat": 4,
 "nbformat_minor": 2
}
