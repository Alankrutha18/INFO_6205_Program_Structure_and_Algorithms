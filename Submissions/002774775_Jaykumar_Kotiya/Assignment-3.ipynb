{
 "cells": [
  {
   "cell_type": "markdown",
   "metadata": {},
   "source": [
    "#### Assignment - 3"
   ]
  },
  {
   "cell_type": "markdown",
   "metadata": {},
   "source": [
    "###### Date: 10/22/2023\n",
    "###### Name: Jaykumar Govind Kotiya\n",
    "###### Subject: INFO 6205 Program Structure and Algorithms\n",
    "###### NUID : 002774775"
   ]
  },
  {
   "cell_type": "markdown",
   "metadata": {},
   "source": [
    "### Question-1\n",
    "\n",
    "#### Problem Statement:\n",
    "You are given a flow network, which is a directed graph where each edge has a capacity and each edge receives a flow. Your task is to find the minimum cut-set in this flow network.\n",
    "\n",
    "#### Input Format:\n",
    "The input consists of the following:\n",
    "1. An integer N, the number of nodes in the flow network (1 ≤ N ≤ 10^5).\n",
    "2. An integer M, the number of edges in the flow network (1 ≤ M ≤ 10^5).\n",
    "3. A list of M triplets (u, v, c), representing the directed edges in the flow network. Each triplet contains:\n",
    "u: the source node of the edge (1 ≤ u ≤ N).\n",
    "v: the destination node of the edge (1 ≤ v ≤ N).\n",
    "c: the capacity of the edge (1 ≤ c ≤ 10^9).\n",
    "\n",
    "Output Format:\n",
    "Output an integer representing the minimum cut value, i.e., the sum of the capacities of the edges in the minimum cut-set.\n",
    "\n",
    "#### Sample Inputs and Outputs:\n",
    "Input:\n",
    "5 7\n",
    "1 2 10\n",
    "1 3 10\n",
    "2 3 2\n",
    "2 4 4\n",
    "3 5 10\n",
    "4 5 10\n",
    "3 4 8\n",
    "\n",
    "Output:\n",
    "12\n",
    "\n",
    "#### Constraints:\n",
    "\n",
    "The graph is a directed flow network.\n",
    "There are no self-loops (edges from a node to itself).\n",
    "The graph is connected.\n",
    "All edge capacities are positive integers.\n",
    "\n",
    "#### Solution:\n",
    "\n",
    "To solve this problem, you can use the Ford-Fulkerson algorithm with the Edmonds-Karp variant. Here's a pseudocode implementation:\n",
    "\n",
    "function EdmondsKarpMinCut(N, M, edges):\n",
    "    Create a residual graph with edge capacities initialized to the given capacities.\n",
    "    Initialize the flow in the residual graph to 0.\n",
    "    While there is an augmenting path P in the residual graph:\n",
    "        Find the minimum capacity c_min along path P.\n",
    "        Augment flow by c_min along path P.\n",
    "        Update the residual capacities along path P.\n",
    "\n",
    "    // The minimum cut value is the sum of capacities of edges from the source side to the sink side.\n",
    "    min_cut_value = Sum of capacities of edges leaving the source side in the residual graph.\n",
    "    Return min_cut_value\n",
    "\n",
    "N, M, edges = Read input values\n",
    "min_cut = EdmondsKarpMinCut(N, M, edges)\n",
    "Print min_cut\n",
    "\n",
    "#### Proof of Correctness:\n",
    "The Ford-Fulkerson algorithm with the Edmonds-Karp variant terminates when no augmenting paths exist in the residual graph. The minimum cut value found in this process is guaranteed to be the minimum cut value in the original flow network.\n",
    "\n",
    "### ChatGPT Assistance and Challenges:\n",
    "\n",
    "Assistance: ChatGPT was helpful in structuring the problem, designing the input and output format, and providing a sample problem. It also assisted in drafting a solution pseudocode. It provided definitions and examples that helped in understanding the problem context.\n",
    "\n",
    "#### Challenges: \n",
    "\n",
    "Ensuring that the new problem maintained the spirit of the example problem was a challenge. I needed to ensure that the problem remained related to network flows and graph theory while introducing a new dimension to it. This involved designing a problem that required a deeper understanding of flow networks and minimum cuts."
   ]
  },
  {
   "cell_type": "markdown",
   "metadata": {},
   "source": [
    "### Question-2\n",
    "\n"
   ]
  }
 ],
 "metadata": {
  "kernelspec": {
   "display_name": "Python 3",
   "language": "python",
   "name": "python3"
  },
  "language_info": {
   "name": "python",
   "version": "3.11.1"
  }
 },
 "nbformat": 4,
 "nbformat_minor": 2
}
