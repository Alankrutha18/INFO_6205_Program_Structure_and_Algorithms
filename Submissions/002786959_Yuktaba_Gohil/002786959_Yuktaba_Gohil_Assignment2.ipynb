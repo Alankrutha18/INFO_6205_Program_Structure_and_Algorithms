{
 "cells": [
  {
   "cell_type": "markdown",
   "metadata": {},
   "source": [
    "#Assignment 2"
   ]
  },
  {
   "cell_type": "markdown",
   "metadata": {},
   "source": [
    "Q1(10 Points)<br>\n",
    "Use Kruskal's Algorithm to find the MST of this graph, and the total weight of the MST. Also, determine the time complexity of your Kruskal's Algorithm implementation.\n",
    "\n",
    "[Imgur](https://github.com/Yuktagohil/INFO_6205_Program_Structure_and_Algorithms/blob/Students/Submissions/002786959_Yuktaba_Gohil/images/Assign2_Ques1.png?raw=true)"
   ]
  }
 ],
 "metadata": {
  "language_info": {
   "name": "python"
  },
  "orig_nbformat": 4
 },
 "nbformat": 4,
 "nbformat_minor": 2
}
