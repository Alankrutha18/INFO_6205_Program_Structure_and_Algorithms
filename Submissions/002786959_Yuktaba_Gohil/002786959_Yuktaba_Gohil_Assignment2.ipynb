{
 "cells": [
  {
   "cell_type": "markdown",
   "metadata": {},
   "source": [
    "#Assignment 2"
   ]
  },
  {
   "cell_type": "markdown",
   "metadata": {},
   "source": [
    "**Q1(10 Points)<br>\n",
    "Use Kruskal's Algorithm to find the MST of this graph, and the total weight of the MST. Also, determine the time complexity of your Kruskal's Algorithm implementation.**\n",
    "\n",
    "![Imgur](https://github.com/Yuktagohil/INFO_6205_Program_Structure_and_Algorithms/blob/Students/Submissions/002786959_Yuktaba_Gohil/images/Assign2_Ques1.png?raw=true)"
   ]
  },
  {
   "cell_type": "markdown",
   "metadata": {},
   "source": [
    "Solution:\n",
    "\n",
    "To find the minimum spanning tree (MST) of the given graph using Kruskal's Algorithm, follow these steps:\n",
    "\n",
    "1. Sort the edges by their weights in non-decreasing order.\n",
    "\n",
    "   Sorted edges with weights:\n",
    "\n",
    "    | Edges  | Weight |\n",
    "    |--------|--------|\n",
    "    | (E, F) | 1      |\n",
    "    | (B, C) | 2      |\n",
    "    | (B, D) | 3      |\n",
    "    | (B, E) | 4      |\n",
    "    | (A, B) | 5      |\n",
    "    | (B, F) | 6      |\n",
    "    | (D, E) | 7      |\n",
    "    | (C, F) | 8      |\n",
    "    | (A, D) | 9      |\n",
    "\n",
    "2. Initialize an empty set to store the MST and an array to keep track of the connected components of the graph.\n",
    "\n",
    "   MST: Empty at the beginning.\n",
    "   Connected Components: Each vertex is initially in its own component.\n",
    "\n",
    "3. Iterate through the sorted edges and add them to the MST if adding the edge does not create a cycle.\n",
    "\n",
    "   Start with the edge (E, F) with weight 1. Add it to the MST.\n",
    "\n",
    "   MST: (E, F): 1\n",
    "   Connected Components: {A}, {B}, {C}, {D}, {E, F}\n",
    "\n",
    "   Continue with the edge (B, C) with weight 2. Add it to the MST.\n",
    "\n",
    "   MST: (E, F): 1, (B, C): 2\n",
    "   Connected Components: {A}, {B, C, E, F}, {D}\n",
    "\n",
    "   Next, add the edge (B, D) with weight 3. Add it to the MST.\n",
    "\n",
    "   MST: (E, F): 1, (B, C): 2, (B, D): 3\n",
    "   Connected Components: {A}, {B, C, D, E, F}\n",
    "\n",
    "   Add the edge (B, E) with weight 4 to the MST.\n",
    "\n",
    "   MST: (E, F): 1, (B, C): 2, (B, D): 3, (B, E): 4\n",
    "   Connected Components: {A}, {B, C, D, E, F}\n",
    "\n",
    "   Add the edge (A, B) with weight 5 to the MST.\n",
    "\n",
    "   MST: (E, F): 1, (B, C): 2, (B, D): 3, (B, E): 4, (A, B): 5\n",
    "   Connected Components: {A,B, C, D, E, F}"
   ]
  }
 ],
 "metadata": {
  "language_info": {
   "name": "python"
  },
  "orig_nbformat": 4
 },
 "nbformat": 4,
 "nbformat_minor": 2
}
