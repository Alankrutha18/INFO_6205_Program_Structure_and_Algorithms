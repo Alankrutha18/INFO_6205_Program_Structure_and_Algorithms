{
 "cells": [
  {
   "cell_type": "markdown",
   "metadata": {},
   "source": [
    "#Assignment 3"
   ]
  },
  {
   "cell_type": "markdown",
   "metadata": {},
   "source": [
    "**Question1**<br>\n",
    "**Give a brief definitions for the following:**\n",
    "\n",
    "**i. Merge Sort<br>\n",
    "ii. Hash Table<br>\n",
    "iii. Depth-First Search (DFS)<br>\n",
    "iv. Binary Search Tree (BST)<br>\n",
    "v. Dijkstra's Algorithm<br>**\n"
   ]
  },
  {
   "cell_type": "markdown",
   "metadata": {},
   "source": [
    "***Solution:***\n",
    "\n",
    "i. Merge Sort<br>\n",
    "The Merge Sort algorithm is a comparison-based sorting method that follows the divide-and-conquer programming approach. It divides an unsorted list into sub-lists until they each contain one element, then repeatedly merges the sub-lists until only one sorted list remains.\n",
    "\n",
    "ii. Hash Table<br>\n",
    "A Hash Table is a data structure that stores key-value pairs, allowing for efficient retrieval of values based on their associated keys. It uses a hash function to map keys to specific locations in memory.\n",
    "\n",
    "iii. Depth-First Search (DFS)<br>\n",
    "Depth-First Search is an algorithm used to traverse or search a graph or tree data structure by exploring as far as possible along each branch before backtracking. It's often used to find connected components or paths in graphs.\n",
    "\n",
    "iv. Binary Search Tree (BST)<br>\n",
    "A Binary Search Tree is a binary tree data structure in which each node has at most two children. It follows a specific ordering property where values to the left of a node are smaller, and values to the right are larger, making it useful for efficient searching and sorting.\n",
    "\n",
    "v. Dijkstra's Algorithm<br>\n",
    "Dijkstra's Algorithm is a graph traversal algorithm used to find the shortest path from a single source node to all other nodes in a weighted graph. It works for graphs with non-negative edge weights and is commonly used in network routing and navigation systems.\n",
    "\n",
    "**Reflection Quality**\n",
    "\n",
    "+ I used chatGPT to create similar question to the one given in worked solutions.<br>\n",
    "+ I then searched the definitions on Google and chose the one that was easy to understand."
   ]
  },
  {
   "cell_type": "markdown",
   "metadata": {},
   "source": [
    "**Question2**<br>\n",
    "Use the Bellman-Ford algorithm to find the shortest path from node A to F in the weighted directed graph below. Show your work.\n",
    "\n",
    "![Imgur](https://github.com/Yuktagohil/INFO_6205_Program_Structure_and_Algorithms/blob/Students/Submissions/002786959_Yuktaba_Gohil/images/Assign3_Ques1.png?raw=true)"
   ]
  },
  {
   "cell_type": "markdown",
   "metadata": {},
   "source": [
    "***Solution:***\n",
    "\n",
    "Principle of Relaxation of Edges for Bellman-Ford:\n",
    "\n",
    "+ As we can see in the graph, the graph has 6 Vertices, all the edges should be relaxed 5 times to compute the single source shortest path.<br>\n",
    "+ In order to detect whether a negative cycle exists or not, relax all the edge one more time and if the shortest distance for any node reduces then we can say that a negative cycle exists. In short if we relax the edges 6 times, and there is any change in the shortest distance of any node between the 5th and 6th relaxation than a negative cycle exists, otherwise not exist.\n",
    "\n",
    "Lets start solving the question.\n",
    "\n",
    "Step 1: Initialize a distance array Dist[] to store the shortest distance for each vertex from the source vertex. Initially distance of source will be 0 and Distance of other vertices will be INFINITY. We will take node A as source.\n",
    "\n",
    "| A  | B  | C  | D  | E  | F  |\n",
    "| -- | -- | -- | -- | -- | -- |\n",
    "| 0  |  &infin;  |  &infin;  |  &infin;  |  &infin;  |  &infin;  |\n",
    "\n",
    "Step 2: Start relaxing the edges, during 1st Relaxation:<br>\n",
    "+ Current Distance of B > (Distance of A) + (Weight of A to B) i.e. Infinity > 0 + 7\n",
    "+ Therefore, Dist[B] = 7\n",
    "\n",
    "| A  | B  | C  | D  | E  | F  |\n",
    "| -- | -- | -- | -- | -- | -- |\n",
    "| 0  |  7  |  &infin;  |  &infin;  |  &infin;  |  &infin;  |\n",
    "\n",
    "Step 3: During 2nd Relaxation:\n",
    "+ Current Distance of D > (Distance of B) + (Weight of B to D) i.e. Infinity > 5 + 2\n",
    "Dist[D] = 7\n",
    "+ Current Distance of C > (Distance of B) + (Weight of B to C) i.e. Infinity > 5 + 1\n",
    "Dist[C] = 6\n",
    "\n"
   ]
  }
 ],
 "metadata": {
  "language_info": {
   "name": "python"
  }
 },
 "nbformat": 4,
 "nbformat_minor": 2
}
