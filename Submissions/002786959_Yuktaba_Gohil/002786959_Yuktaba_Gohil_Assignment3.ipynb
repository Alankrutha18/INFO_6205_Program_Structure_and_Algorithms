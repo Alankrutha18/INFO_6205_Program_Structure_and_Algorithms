{
 "cells": [
  {
   "cell_type": "markdown",
   "metadata": {},
   "source": [
    "#Assignment 3"
   ]
  },
  {
   "cell_type": "markdown",
   "metadata": {},
   "source": [
    "**Question1**<br>\n",
    "**Give a brief definitions for the following:**\n",
    "\n",
    "**i. Merge Sort<br>\n",
    "ii. Hash Table<br>\n",
    "iii. Depth-First Search (DFS)<br>\n",
    "iv. Binary Search Tree (BST)<br>\n",
    "v. Dijkstra's Algorithm<br>**\n"
   ]
  },
  {
   "cell_type": "markdown",
   "metadata": {},
   "source": [
    "***Solution:***\n",
    "\n",
    "i. Merge Sort<br>\n",
    "The Merge Sort algorithm is a comparison-based sorting method that follows the divide-and-conquer programming approach. It divides an unsorted list into sub-lists until they each contain one element, then repeatedly merges the sub-lists until only one sorted list remains.\n",
    "\n",
    "ii. Hash Table<br>\n",
    "A Hash Table is a data structure that stores key-value pairs, allowing for efficient retrieval of values based on their associated keys. It uses a hash function to map keys to specific locations in memory.\n",
    "\n",
    "iii. Depth-First Search (DFS)<br>\n",
    "Depth-First Search is an algorithm used to traverse or search a graph or tree data structure by exploring as far as possible along each branch before backtracking. It's often used to find connected components or paths in graphs.\n",
    "\n",
    "iv. Binary Search Tree (BST)<br>\n",
    "A Binary Search Tree is a binary tree data structure in which each node has at most two children. It follows a specific ordering property where values to the left of a node are smaller, and values to the right are larger, making it useful for efficient searching and sorting.\n",
    "\n",
    "v. Dijkstra's Algorithm<br>\n",
    "Dijkstra's Algorithm is a graph traversal algorithm used to find the shortest path from a single source node to all other nodes in a weighted graph. It works for graphs with non-negative edge weights and is commonly used in network routing and navigation systems.\n",
    "\n",
    "**Reflection Quality**\n",
    "\n",
    "+ I used chatGPT to create similar question to the one given in worked solutions.<br>\n",
    "+ I then searched the definitions on Google and chose the one that was easy to understand."
   ]
  },
  {
   "cell_type": "markdown",
   "metadata": {},
   "source": [
    "**Question2**\n",
    "\n"
   ]
  }
 ],
 "metadata": {
  "language_info": {
   "name": "python"
  }
 },
 "nbformat": 4,
 "nbformat_minor": 2
}
